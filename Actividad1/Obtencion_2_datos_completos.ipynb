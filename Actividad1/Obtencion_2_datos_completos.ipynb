{
  "cells": [
    {
      "cell_type": "code",
      "execution_count": null,
      "metadata": {
        "id": "aT3V21B6AaXY"
      },
      "outputs": [],
      "source": [
        "from google.colab import drive\n",
        "drive.mount('/content/drive')"
      ]
    },
    {
      "cell_type": "markdown",
      "metadata": {
        "id": "4zvwUy0uRHjN"
      },
      "source": [
        "# Merge csv completos segunda ronda"
      ]
    },
    {
      "cell_type": "code",
      "execution_count": null,
      "metadata": {
        "id": "5cq5ug7-Aq9d"
      },
      "outputs": [],
      "source": [
        "import os\n",
        "import pandas as pd\n",
        "\n",
        "# Cinfiguracion de pandas\n",
        "#pd.set_option('display.max_rows', None)\n",
        "#pd.set_option('display.max_columns', None)\n",
        "\n",
        "# Ruta de archivos CSV\n",
        "ruta_carpeta_principal = '/content/drive/MyDrive/'\n",
        "\n",
        "archivo1 = os.path.join(ruta_carpeta_principal, \"arxivCl_datos_completos.csv\")\n",
        "archivo2 = os.path.join(ruta_carpeta_principal, \"ArxivCl_manual.csv\")\n",
        "\n",
        "# Carga los archivos CSV en DataFrames\n",
        "df1 = pd.read_csv(archivo1)\n",
        "df2 = pd.read_csv(archivo2)\n",
        "\n",
        "# Guardar el número inicial de filas en cada DataFrame\n",
        "num_filas_inicial_df1 = len(df1)\n",
        "print(\"Filas del doc 1:\",num_filas_inicial_df1)\n",
        "num_filas_inicial_df2 = len(df2)\n",
        "print(\"Filas del doc 2:\",num_filas_inicial_df2)\n",
        "\n",
        "# Union de csv con base en la columna 'Title'\n",
        "result = pd.merge(df1, df2, on='Archivo', how='outer')\n",
        "print(\"Número total de elementos al unir:\", len(result))\n",
        "\n",
        "# Dropear filas con valores nulos en columnas\n",
        "result = result.dropna(subset=['Accepted'])\n",
        "#result = result.dropna(subset=['Contenido'])\n",
        "print(\"Número total de elementos despues de dropear:\", len(result))\n",
        "\n",
        "print(result)\n",
        "#pd.reset_option('display.max_rows')\n",
        "#pd.reset_option('display.max_columns')\n",
        "\n",
        "# Guarda el resultado en un CSV\n",
        "result.to_csv('/content/drive/MyDrive/arxivCl_2_datos_completos.csv', index=False)\n"
      ]
    },
    {
      "cell_type": "code",
      "execution_count": null,
      "metadata": {
        "id": "TEsSqRlgO2Ty"
      },
      "outputs": [],
      "source": [
        "import os\n",
        "import pandas as pd\n",
        "\n",
        "# Cinfiguracion de pandas\n",
        "#pd.set_option('display.max_rows', None)\n",
        "#pd.set_option('display.max_columns', None)\n",
        "\n",
        "# Ruta de archivos CSV\n",
        "ruta_carpeta_principal = '/content/drive/MyDrive/'\n",
        "\n",
        "archivo1 = os.path.join(ruta_carpeta_principal, \"arxivLg_datos_completos.csv\")\n",
        "archivo2 = os.path.join(ruta_carpeta_principal, \"ArxivLg_manual.csv\")\n",
        "\n",
        "# Carga los archivos CSV en DataFrames\n",
        "df1 = pd.read_csv(archivo1)\n",
        "df2 = pd.read_csv(archivo2)\n",
        "\n",
        "# Guardar el número inicial de filas en cada DataFrame\n",
        "num_filas_inicial_df1 = len(df1)\n",
        "print(\"Filas del doc 1:\",num_filas_inicial_df1)\n",
        "num_filas_inicial_df2 = len(df2)\n",
        "print(\"Filas del doc 2:\",num_filas_inicial_df2)\n",
        "\n",
        "# Union de csv con base en la columna 'Title'\n",
        "result = pd.merge(df1, df2, on='Archivo', how='outer')\n",
        "print(\"Número total de elementos al unir:\", len(result))\n",
        "\n",
        "print(result)\n",
        "#pd.reset_option('display.max_rows')\n",
        "#pd.reset_option('display.max_columns')\n",
        "\n",
        "# Guarda el resultado en un CSV\n",
        "result.to_csv('/content/drive/MyDrive/arxivLg_2_datos_completos.csv', index=False)\n",
        "print(result)\n"
      ]
    },
    {
      "cell_type": "code",
      "execution_count": null,
      "metadata": {
        "id": "Rp9wU-lWPkDE"
      },
      "outputs": [],
      "source": [
        "import os\n",
        "import pandas as pd\n",
        "\n",
        "# Cinfiguracion de pandas\n",
        "#pd.set_option('display.max_rows', None)\n",
        "#pd.set_option('display.max_columns', None)\n",
        "\n",
        "# Ruta de archivos CSV\n",
        "ruta_carpeta_principal = '/content/drive/MyDrive/'\n",
        "\n",
        "archivo1 = os.path.join(ruta_carpeta_principal, \"arxivAi_datos_completos.csv\")\n",
        "archivo2 = os.path.join(ruta_carpeta_principal, \"arxiv_Ai_manual.csv\")\n",
        "\n",
        "# Carga los archivos CSV en DataFrames\n",
        "df1 = pd.read_csv(archivo1)\n",
        "df2 = pd.read_csv(archivo2)\n",
        "\n",
        "# Guardar el número inicial de filas en cada DataFrame\n",
        "num_filas_inicial_df1 = len(df1)\n",
        "print(\"Filas del doc 1:\",num_filas_inicial_df1)\n",
        "num_filas_inicial_df2 = len(df2)\n",
        "print(\"Filas del doc 2:\",num_filas_inicial_df2)\n",
        "\n",
        "# Union de csv con base en la columna 'Title'\n",
        "result = pd.merge(df1, df2, on='Archivo', how='outer')\n",
        "print(\"Número total de elementos al unir:\", len(result))\n",
        "\n",
        "print(result)\n",
        "#pd.reset_option('display.max_rows')\n",
        "#pd.reset_option('display.max_columns')\n",
        "\n",
        "# Guarda el resultado en un CSV\n",
        "result.to_csv('/content/drive/MyDrive/arxivAi_2_datos_completos.csv', index=False)\n"
      ]
    },
    {
      "cell_type": "markdown",
      "metadata": {
        "id": "U6RQ2CJRRNMq"
      },
      "source": [
        "#Obtencion csv"
      ]
    },
    {
      "cell_type": "code",
      "execution_count": null,
      "metadata": {
        "id": "sQvmEf_ZRQfj"
      },
      "outputs": [],
      "source": [
        "import os\n",
        "import pandas as pd\n",
        "\n",
        "# Ruta de archivos CSV\n",
        "ruta_carpeta_principal = '/content/drive/MyDrive/'\n",
        "\n",
        "archivo1 = os.path.join(ruta_carpeta_principal, \"acl_datos_completos.csv\")\n",
        "archivo2 = os.path.join(ruta_carpeta_principal, \"reviews_acl.csv\")\n",
        "\n",
        "# Carga los archivos CSV en DataFrames\n",
        "df1 = pd.read_csv(archivo1)\n",
        "df2 = pd.read_csv(archivo2)\n",
        "\n",
        "# Muestra la cantidad de filas en cada DataFrame\n",
        "print(\"Número de filas en df1:\", len(df1))\n",
        "print(\"Número de filas en df2:\", len(df2))\n",
        "\n",
        "# Obtiene los títulos de ambos DataFrames\n",
        "titulos_df1 = set(df1['Title'])\n",
        "titulos_df2 = set(df2['Title'])\n",
        "\n",
        "# Muestra la cantidad de títulos únicos en cada DataFrame\n",
        "print(\"Número de títulos únicos en df1:\", len(titulos_df1))\n",
        "print(\"Número de títulos únicos en df2:\", len(titulos_df2))\n",
        "\n",
        "# Encuentra la intersección de títulos entre los dos conjuntos\n",
        "titulos_coincidentes = titulos_df1.intersection(titulos_df2)\n",
        "\n",
        "# Convierte la intersección de títulos en una lista\n",
        "titulos_coincidentes = list(titulos_coincidentes)\n",
        "\n",
        "# Imprime la longitud de la lista\n",
        "print(\"Número de títulos coincidentes:\", len(titulos_coincidentes))\n",
        "\n",
        "# Guarda la lista de títulos en un archivo CSV\n",
        "titulos_df = pd.DataFrame({'Titulo': titulos_coincidentes})\n",
        "titulos_df.to_csv('/content/drive/MyDrive/titulos_coincidentes.csv', index=False)\n"
      ]
    }
  ],
  "metadata": {
    "colab": {
      "provenance": []
    },
    "kernelspec": {
      "display_name": "Python 3",
      "name": "python3"
    },
    "language_info": {
      "name": "python"
    }
  },
  "nbformat": 4,
  "nbformat_minor": 0
}